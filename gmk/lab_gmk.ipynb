{
  "cells": [
    {
      "cell_type": "markdown",
      "source": [
        "# Let it flow ! with Google Managed Kafka & Kafka Connect\n",
        "\n",
        "## Pre Requisite\n",
        "\n",
        "### Runtime\n",
        "\n",
        "Make sure you selected the proper runtime (the one in the right VPC)\n",
        "\n",
        "### Wrapper to authenthicate with oauth\n",
        "upload tokenprovider.py from https://github.com/c-damien/bigquery-academy-2025/gmk/"
      ],
      "metadata": {
        "id": "1YjJsGEmETl7"
      },
      "id": "1YjJsGEmETl7"
    },
    {
      "cell_type": "code",
      "source": [
        "from google.colab import files\n",
        "uploaded = files.upload()"
      ],
      "metadata": {
        "colab": {
          "base_uri": "https://localhost:8080/",
          "height": 73
        },
        "id": "4-gdi8bdFYiV",
        "outputId": "6e8a054d-2aa1-4595-a88a-e4e303516e9b"
      },
      "id": "4-gdi8bdFYiV",
      "execution_count": 1,
      "outputs": [
        {
          "output_type": "display_data",
          "data": {
            "text/plain": [
              "<IPython.core.display.HTML object>"
            ],
            "text/html": [
              "\n",
              "     <input type=\"file\" id=\"files-ca5f8389-bbfe-46b4-916a-cde324120f06\" name=\"files[]\" multiple disabled\n",
              "        style=\"border:none\" />\n",
              "     <output id=\"result-ca5f8389-bbfe-46b4-916a-cde324120f06\">\n",
              "      Upload widget is only available when the cell has been executed in the\n",
              "      current browser session. Please rerun this cell to enable.\n",
              "      </output>\n",
              "      <script>// Copyright 2017 Google LLC\n",
              "//\n",
              "// Licensed under the Apache License, Version 2.0 (the \"License\");\n",
              "// you may not use this file except in compliance with the License.\n",
              "// You may obtain a copy of the License at\n",
              "//\n",
              "//      http://www.apache.org/licenses/LICENSE-2.0\n",
              "//\n",
              "// Unless required by applicable law or agreed to in writing, software\n",
              "// distributed under the License is distributed on an \"AS IS\" BASIS,\n",
              "// WITHOUT WARRANTIES OR CONDITIONS OF ANY KIND, either express or implied.\n",
              "// See the License for the specific language governing permissions and\n",
              "// limitations under the License.\n",
              "\n",
              "/**\n",
              " * @fileoverview Helpers for google.colab Python module.\n",
              " */\n",
              "(function(scope) {\n",
              "function span(text, styleAttributes = {}) {\n",
              "  const element = document.createElement('span');\n",
              "  element.textContent = text;\n",
              "  for (const key of Object.keys(styleAttributes)) {\n",
              "    element.style[key] = styleAttributes[key];\n",
              "  }\n",
              "  return element;\n",
              "}\n",
              "\n",
              "// Max number of bytes which will be uploaded at a time.\n",
              "const MAX_PAYLOAD_SIZE = 100 * 1024;\n",
              "\n",
              "function _uploadFiles(inputId, outputId) {\n",
              "  const steps = uploadFilesStep(inputId, outputId);\n",
              "  const outputElement = document.getElementById(outputId);\n",
              "  // Cache steps on the outputElement to make it available for the next call\n",
              "  // to uploadFilesContinue from Python.\n",
              "  outputElement.steps = steps;\n",
              "\n",
              "  return _uploadFilesContinue(outputId);\n",
              "}\n",
              "\n",
              "// This is roughly an async generator (not supported in the browser yet),\n",
              "// where there are multiple asynchronous steps and the Python side is going\n",
              "// to poll for completion of each step.\n",
              "// This uses a Promise to block the python side on completion of each step,\n",
              "// then passes the result of the previous step as the input to the next step.\n",
              "function _uploadFilesContinue(outputId) {\n",
              "  const outputElement = document.getElementById(outputId);\n",
              "  const steps = outputElement.steps;\n",
              "\n",
              "  const next = steps.next(outputElement.lastPromiseValue);\n",
              "  return Promise.resolve(next.value.promise).then((value) => {\n",
              "    // Cache the last promise value to make it available to the next\n",
              "    // step of the generator.\n",
              "    outputElement.lastPromiseValue = value;\n",
              "    return next.value.response;\n",
              "  });\n",
              "}\n",
              "\n",
              "/**\n",
              " * Generator function which is called between each async step of the upload\n",
              " * process.\n",
              " * @param {string} inputId Element ID of the input file picker element.\n",
              " * @param {string} outputId Element ID of the output display.\n",
              " * @return {!Iterable<!Object>} Iterable of next steps.\n",
              " */\n",
              "function* uploadFilesStep(inputId, outputId) {\n",
              "  const inputElement = document.getElementById(inputId);\n",
              "  inputElement.disabled = false;\n",
              "\n",
              "  const outputElement = document.getElementById(outputId);\n",
              "  outputElement.innerHTML = '';\n",
              "\n",
              "  const pickedPromise = new Promise((resolve) => {\n",
              "    inputElement.addEventListener('change', (e) => {\n",
              "      resolve(e.target.files);\n",
              "    });\n",
              "  });\n",
              "\n",
              "  const cancel = document.createElement('button');\n",
              "  inputElement.parentElement.appendChild(cancel);\n",
              "  cancel.textContent = 'Cancel upload';\n",
              "  const cancelPromise = new Promise((resolve) => {\n",
              "    cancel.onclick = () => {\n",
              "      resolve(null);\n",
              "    };\n",
              "  });\n",
              "\n",
              "  // Wait for the user to pick the files.\n",
              "  const files = yield {\n",
              "    promise: Promise.race([pickedPromise, cancelPromise]),\n",
              "    response: {\n",
              "      action: 'starting',\n",
              "    }\n",
              "  };\n",
              "\n",
              "  cancel.remove();\n",
              "\n",
              "  // Disable the input element since further picks are not allowed.\n",
              "  inputElement.disabled = true;\n",
              "\n",
              "  if (!files) {\n",
              "    return {\n",
              "      response: {\n",
              "        action: 'complete',\n",
              "      }\n",
              "    };\n",
              "  }\n",
              "\n",
              "  for (const file of files) {\n",
              "    const li = document.createElement('li');\n",
              "    li.append(span(file.name, {fontWeight: 'bold'}));\n",
              "    li.append(span(\n",
              "        `(${file.type || 'n/a'}) - ${file.size} bytes, ` +\n",
              "        `last modified: ${\n",
              "            file.lastModifiedDate ? file.lastModifiedDate.toLocaleDateString() :\n",
              "                                    'n/a'} - `));\n",
              "    const percent = span('0% done');\n",
              "    li.appendChild(percent);\n",
              "\n",
              "    outputElement.appendChild(li);\n",
              "\n",
              "    const fileDataPromise = new Promise((resolve) => {\n",
              "      const reader = new FileReader();\n",
              "      reader.onload = (e) => {\n",
              "        resolve(e.target.result);\n",
              "      };\n",
              "      reader.readAsArrayBuffer(file);\n",
              "    });\n",
              "    // Wait for the data to be ready.\n",
              "    let fileData = yield {\n",
              "      promise: fileDataPromise,\n",
              "      response: {\n",
              "        action: 'continue',\n",
              "      }\n",
              "    };\n",
              "\n",
              "    // Use a chunked sending to avoid message size limits. See b/62115660.\n",
              "    let position = 0;\n",
              "    do {\n",
              "      const length = Math.min(fileData.byteLength - position, MAX_PAYLOAD_SIZE);\n",
              "      const chunk = new Uint8Array(fileData, position, length);\n",
              "      position += length;\n",
              "\n",
              "      const base64 = btoa(String.fromCharCode.apply(null, chunk));\n",
              "      yield {\n",
              "        response: {\n",
              "          action: 'append',\n",
              "          file: file.name,\n",
              "          data: base64,\n",
              "        },\n",
              "      };\n",
              "\n",
              "      let percentDone = fileData.byteLength === 0 ?\n",
              "          100 :\n",
              "          Math.round((position / fileData.byteLength) * 100);\n",
              "      percent.textContent = `${percentDone}% done`;\n",
              "\n",
              "    } while (position < fileData.byteLength);\n",
              "  }\n",
              "\n",
              "  // All done.\n",
              "  yield {\n",
              "    response: {\n",
              "      action: 'complete',\n",
              "    }\n",
              "  };\n",
              "}\n",
              "\n",
              "scope.google = scope.google || {};\n",
              "scope.google.colab = scope.google.colab || {};\n",
              "scope.google.colab._files = {\n",
              "  _uploadFiles,\n",
              "  _uploadFilesContinue,\n",
              "};\n",
              "})(self);\n",
              "</script> "
            ]
          },
          "metadata": {}
        },
        {
          "output_type": "stream",
          "name": "stdout",
          "text": [
            "Saving tokenprovider.py to tokenprovider (3).py\n"
          ]
        }
      ]
    },
    {
      "cell_type": "markdown",
      "source": [
        "## Update the project parameters"
      ],
      "metadata": {
        "id": "gOTfu6UMFODE"
      },
      "id": "gOTfu6UMFODE"
    },
    {
      "cell_type": "code",
      "source": [
        "!pip install confluent-kafka google-auth urllib3 packaging"
      ],
      "metadata": {
        "colab": {
          "base_uri": "https://localhost:8080/"
        },
        "id": "FJqnsb7CH0ub",
        "outputId": "7218f796-45ae-4fb6-9f30-a143ffec87e7"
      },
      "id": "FJqnsb7CH0ub",
      "execution_count": null,
      "outputs": [
        {
          "output_type": "stream",
          "name": "stdout",
          "text": [
            "Requirement already satisfied: confluent-kafka in /usr/local/lib/python3.11/dist-packages (2.11.1)\n",
            "Requirement already satisfied: google-auth in /usr/local/lib/python3.11/dist-packages (2.38.0)\n",
            "Requirement already satisfied: urllib3 in /usr/local/lib/python3.11/dist-packages (2.5.0)\n",
            "Requirement already satisfied: packaging in /usr/local/lib/python3.11/dist-packages (25.0)\n",
            "Requirement already satisfied: cachetools<6.0,>=2.0.0 in /usr/local/lib/python3.11/dist-packages (from google-auth) (5.5.2)\n",
            "Requirement already satisfied: pyasn1-modules>=0.2.1 in /usr/local/lib/python3.11/dist-packages (from google-auth) (0.4.2)\n",
            "Requirement already satisfied: rsa<5,>=3.1.4 in /usr/local/lib/python3.11/dist-packages (from google-auth) (4.9.1)\n",
            "Requirement already satisfied: pyasn1<0.7.0,>=0.6.1 in /usr/local/lib/python3.11/dist-packages (from pyasn1-modules>=0.2.1->google-auth) (0.6.1)\n"
          ]
        }
      ]
    },
    {
      "cell_type": "code",
      "source": [
        "#@title Variables { run: \"auto\", display-mode: \"form\" }\n",
        "KAFKA_PROJECT_ID = \"\" #@param {type:\"string\"}\n",
        "KAFKA_CLUSTER_NAME = \"lab-kafka-cluster\" #@param {type:\"string\"}\n",
        "REGION = \"us-central1\" #@param {type:\"string\"}\n",
        "TOPIC_NAME = \"kafka-lab-topic\" #@param {type:\"string\"}"
      ],
      "metadata": {
        "id": "j7jyUJV2KLvP"
      },
      "id": "j7jyUJV2KLvP",
      "execution_count": 5,
      "outputs": []
    },
    {
      "cell_type": "markdown",
      "source": [
        "# Send a simple message to your Managed Kafka Cluster"
      ],
      "metadata": {
        "id": "lx3tjjBT062_"
      },
      "id": "lx3tjjBT062_"
    },
    {
      "cell_type": "code",
      "source": [
        "import confluent_kafka\n",
        "from tokenprovider import TokenProvider\n",
        "import json\n",
        "from confluent_kafka.admin import AdminClient\n",
        "from confluent_kafka import KafkaException\n",
        "\n",
        "token_provider = TokenProvider()\n",
        "\n",
        "conf = {\n",
        "    'bootstrap.servers': 'bootstrap.'+KAFKA_CLUSTER_NAME+'.'+REGION+'.managedkafka.'+KAFKA_PROJECT_ID+'.cloud.goog:9092',\n",
        "    'client.id': 'my-topic-writer',\n",
        "    'security.protocol': 'SASL_SSL',\n",
        "    'sasl.mechanisms': 'OAUTHBEARER',\n",
        "    'oauth_cb': token_provider.get_token,\n",
        "}\n",
        "\n",
        "print(' Connecting to bootstrap.'+KAFKA_CLUSTER_NAME+'.'+REGION+'.managedkafka.'+KAFKA_PROJECT_ID+'.cloud.goog:9092')\n",
        "\n",
        "# --- main Script: simple producer ---\n",
        "try:\n",
        "\n",
        "    producer = confluent_kafka.Producer(conf)\n",
        "\n",
        "    #callback function after publishing a message\n",
        "    def callback(error, message):\n",
        "      if error is not None:\n",
        "        print(error)\n",
        "        return\n",
        "      print(\"Delivered a message to {}[{}]\".format(message.topic(), message.partition()))\n",
        "\n",
        "    #main part to publish\n",
        "    for i in range(1):\n",
        "      payload = \"my first kafka message\" # our message\n",
        "\n",
        "      producer.produce(TOPIC_NAME, payload.encode('utf-8'), callback=callback)\n",
        "    producer.flush()\n",
        "\n",
        "except KafkaException as e:\n",
        "    print(f\"Failed to fetch topics: {e}\")\n",
        "\n",
        "except Exception as e:\n",
        "    print(f\"An unexpected error occurred: {e}\")"
      ],
      "metadata": {
        "colab": {
          "base_uri": "https://localhost:8080/"
        },
        "id": "KenTQepLH570",
        "outputId": "faf435ab-2c69-45b4-ae26-ba868bbdd11a"
      },
      "id": "KenTQepLH570",
      "execution_count": 2,
      "outputs": [
        {
          "output_type": "stream",
          "name": "stdout",
          "text": [
            " Connecting to bootstrap.game-kafka.us-central1.managedkafka.data-cloud-interactive-demo.cloud.goog:9092\n",
            "Delivered a message to game_signals[1]\n"
          ]
        }
      ]
    },
    {
      "cell_type": "markdown",
      "source": [
        "### Send a JSON message to Kafka"
      ],
      "metadata": {
        "id": "ZKoDRE9DHh8N"
      },
      "id": "ZKoDRE9DHh8N"
    },
    {
      "cell_type": "code",
      "source": [
        "import confluent_kafka\n",
        "from tokenprovider import TokenProvider\n",
        "import json\n",
        "from confluent_kafka.admin import AdminClient\n",
        "from confluent_kafka import KafkaException\n",
        "\n",
        "\n",
        "\n",
        "token_provider = TokenProvider()\n",
        "# --- Configuration ---\n",
        "conf = {\n",
        "    'bootstrap.servers': 'bootstrap.'+KAFKA_CLUSTER_NAME+'.'+REGION+'.managedkafka.'+KAFKA_PROJECT_ID+'.cloud.goog:9092',\n",
        "    'client.id': 'my-topic-lister-app',\n",
        "    'security.protocol': 'SASL_SSL',\n",
        "    'sasl.mechanisms': 'OAUTHBEARER',\n",
        "    'oauth_cb': token_provider.get_token,\n",
        "}\n",
        "\n",
        "# --- Script ---\n",
        "try:\n",
        "    # 1. Create a producer\n",
        "    producer = confluent_kafka.Producer(conf)\n",
        "    def callback(error, message):\n",
        "      if error is not None:\n",
        "        print(error)\n",
        "        return\n",
        "      print(\"Delivered a message to {}[{}]\".format(message.topic(), message.partition()))\n",
        "\n",
        "    for i in range(1):\n",
        "\n",
        "      ###########our message\n",
        "      schema = {\n",
        "        \"type\": \"struct\",\n",
        "        \"fields\": [\n",
        "          {\"type\": \"string\", \"optional\": False, \"field\": \"user_id\"},\n",
        "          {\"type\": \"string\", \"optional\": False, \"field\": \"action\"},\n",
        "          {\"type\": \"string\", \"optional\": True, \"field\": \"timestamp\"},\n",
        "          {\"type\": \"string\", \"optional\": True, \"field\": \"page\"}\n",
        "        ],\n",
        "       \"optional\": False,\n",
        "       \"name\": \"user_activity_schema\"\n",
        "      }\n",
        "      payload = {\n",
        "      'user_id': '1a2b3c',\n",
        "      'action': 'click',\n",
        "      'timestamp': '2025-09-28T15:52:00Z',\n",
        "      'page': '/products/kafka-for-beginners'\n",
        "      }\n",
        "      message_with_schema = {\n",
        "        \"schema\": schema,\n",
        "        \"payload\": payload\n",
        "      }\n",
        "      ###########our message\n",
        "\n",
        "      json_data = json.dumps(message_with_schema)\n",
        "      producer.produce(TOPIC_NAME, json_data.encode('utf-8'),  key=payload['user_id'].encode('utf-8'), callback=callback)\n",
        "    producer.flush()\n",
        "\n",
        "except KafkaException as e:\n",
        "    print(f\"Failed to fetch topics: {e}\")\n",
        "\n",
        "except Exception as e:\n",
        "    print(f\"An unexpected error occurred: {e}\")"
      ],
      "metadata": {
        "id": "r7vxWiyW00tB"
      },
      "id": "r7vxWiyW00tB",
      "execution_count": null,
      "outputs": []
    },
    {
      "cell_type": "markdown",
      "source": [
        "### Consume messages from your topic"
      ],
      "metadata": {
        "id": "lfLVZzBhFzD2"
      },
      "id": "lfLVZzBhFzD2"
    },
    {
      "cell_type": "code",
      "source": [
        "import sys\n",
        "from confluent_kafka import Consumer, KafkaError, KafkaException\n",
        "\n",
        "\n",
        "conf = {\n",
        "    'bootstrap.servers': 'bootstrap.'+KAFKA_CLUSTER_NAME+'.'+REGION+'.managedkafka.'+KAFKA_PROJECT_ID+'.cloud.goog:9092',\n",
        "    'client.id': 'my-topic-lister-app',\n",
        "    'security.protocol': 'SASL_SSL',\n",
        "    'sasl.mechanisms': 'OAUTHBEARER',\n",
        "    'oauth_cb': token_provider.get_token,\n",
        "    'group.id': \"my_group\",\n",
        "    # This setting ensures the consumer starts reading from the\n",
        "    # beginning of the topic if no offset is stored for its group.\n",
        "    'auto.offset.reset': 'earliest'\n",
        "}\n",
        "\n",
        "\n",
        "\n",
        "consumer = Consumer(conf)\n",
        "\n",
        "try:\n",
        "    # 1. Subscribe to the topic\n",
        "    consumer.subscribe([TOPIC_NAME])\n",
        "    print(f\"Subscribed to topic \"+TOPIC_NAME+\". Waiting for messages...\")\n",
        "\n",
        "    # 2. Start the infinite polling loop\n",
        "    while True:\n",
        "        # Poll for new messages with a 1-second timeout\n",
        "        msg = consumer.poll(timeout=1.0)\n",
        "\n",
        "        # 3. Handle the poll result\n",
        "        if msg is None:\n",
        "            # No message received within the timeout period\n",
        "            continue\n",
        "\n",
        "        if msg.error():\n",
        "            # Handle errors\n",
        "            if msg.error().code() == KafkaError._PARTITION_EOF:\n",
        "                sys.stderr.write(f'%% Reached end of partition {msg.topic()} [{msg.partition()}] at offset {msg.offset()}\\n')\n",
        "            elif msg.error():\n",
        "                raise KafkaException(msg.error())\n",
        "        else:\n",
        "            # Proper message received\n",
        "            key = msg.key().decode('utf-8') if msg.key() else 'NoKey'\n",
        "            value = msg.value().decode('utf-8')\n",
        "            print(f\"Received message: key={key} value='{value}'\")\n",
        "\n",
        "except KafkaException as e:\n",
        "    print(f\"Failed to fetch topics: {e}\")\n",
        "\n",
        "finally:\n",
        "    # 4. Close the consumer connection\n",
        "    consumer.close()\n",
        "    print(\"Consumer connection closed.\")"
      ],
      "metadata": {
        "colab": {
          "base_uri": "https://localhost:8080/",
          "height": 252
        },
        "id": "5VLJjoijM3dX",
        "outputId": "1c0e2724-c840-4111-89d6-a5f44a1fee40"
      },
      "id": "5VLJjoijM3dX",
      "execution_count": 7,
      "outputs": [
        {
          "output_type": "stream",
          "name": "stdout",
          "text": [
            "Subscribed to topic game_signals. Waiting for messages...\n",
            "Consumer connection closed.\n"
          ]
        },
        {
          "output_type": "error",
          "ename": "KeyboardInterrupt",
          "evalue": "",
          "traceback": [
            "\u001b[0;31m---------------------------------------------------------------------------\u001b[0m",
            "\u001b[0;31mKeyboardInterrupt\u001b[0m                         Traceback (most recent call last)",
            "\u001b[0;32m/tmp/ipython-input-3257183433.py\u001b[0m in \u001b[0;36m<cell line: 0>\u001b[0;34m()\u001b[0m\n\u001b[1;32m     27\u001b[0m     \u001b[0;32mwhile\u001b[0m \u001b[0;32mTrue\u001b[0m\u001b[0;34m:\u001b[0m\u001b[0;34m\u001b[0m\u001b[0;34m\u001b[0m\u001b[0m\n\u001b[1;32m     28\u001b[0m         \u001b[0;31m# Poll for new messages with a 1-second timeout\u001b[0m\u001b[0;34m\u001b[0m\u001b[0;34m\u001b[0m\u001b[0m\n\u001b[0;32m---> 29\u001b[0;31m         \u001b[0mmsg\u001b[0m \u001b[0;34m=\u001b[0m \u001b[0mconsumer\u001b[0m\u001b[0;34m.\u001b[0m\u001b[0mpoll\u001b[0m\u001b[0;34m(\u001b[0m\u001b[0mtimeout\u001b[0m\u001b[0;34m=\u001b[0m\u001b[0;36m1.0\u001b[0m\u001b[0;34m)\u001b[0m\u001b[0;34m\u001b[0m\u001b[0;34m\u001b[0m\u001b[0m\n\u001b[0m\u001b[1;32m     30\u001b[0m \u001b[0;34m\u001b[0m\u001b[0m\n\u001b[1;32m     31\u001b[0m         \u001b[0;31m# 3. Handle the poll result\u001b[0m\u001b[0;34m\u001b[0m\u001b[0;34m\u001b[0m\u001b[0m\n",
            "\u001b[0;31mKeyboardInterrupt\u001b[0m: "
          ]
        }
      ]
    }
  ],
  "metadata": {
    "kernelspec": {
      "display_name": "Python 3",
      "language": "python",
      "name": "python3"
    },
    "language_info": {
      "codemirror_mode": {
        "name": "ipython",
        "version": 3
      },
      "file_extension": ".py",
      "mimetype": "text/x-python",
      "name": "python",
      "nbconvert_exporter": "python",
      "pygments_lexer": "ipython3",
      "version": "3.10.10"
    },
    "colab": {
      "provenance": [],
      "name": "kafka-lab"
    }
  },
  "nbformat": 4,
  "nbformat_minor": 5
}